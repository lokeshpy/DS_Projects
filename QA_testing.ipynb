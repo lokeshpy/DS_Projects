{
 "cells": [
  {
   "cell_type": "code",
   "execution_count": 1,
   "metadata": {},
   "outputs": [
    {
     "name": "stdout",
     "output_type": "stream",
     "text": [
      "Testing the connection between notebook and Git\n"
     ]
    }
   ],
   "source": [
    "print('Testing the connection between notebook and Git')"
   ]
  },
  {
   "cell_type": "code",
   "execution_count": 2,
   "metadata": {},
   "outputs": [
    {
     "name": "stdout",
     "output_type": "stream",
     "text": [
      " Volume in drive C has no label.\n",
      " Volume Serial Number is 2CCF-ED4B\n",
      "\n",
      " Directory of C:\\Users\\czlxp\n",
      "\n",
      "02/20/2021  09:25 AM    <DIR>          .\n",
      "02/20/2021  09:25 AM    <DIR>          ..\n",
      "09/25/2019  03:53 PM    <DIR>          .atom\n",
      "06/03/2020  05:53 AM            14,833 .bash_history\n",
      "02/20/2021  09:24 AM    <DIR>          .conda\n",
      "02/20/2021  08:54 AM                43 .condarc\n",
      "01/15/2020  04:53 PM               206 .gitconfig\n",
      "10/26/2018  04:45 PM    <DIR>          .idlerc\n",
      "02/20/2021  09:15 AM    <DIR>          .ipynb_checkpoints\n",
      "11/13/2020  01:44 PM    <DIR>          .ipython\n",
      "11/27/2020  08:42 AM    <DIR>          .jupyter\n",
      "01/17/2020  01:48 PM    <DIR>          .matplotlib\n",
      "01/20/2021  02:55 PM    <DIR>          .metadata\n",
      "08/06/2016  09:28 AM    <DIR>          .oracle_jre_usage\n",
      "10/30/2020  08:14 AM                65 .pgAdmin4.1057243102.addr\n",
      "11/01/2020  02:31 PM            23,562 .pgAdmin4.1057243102.log\n",
      "10/30/2020  08:14 AM             1,580 .pgAdmin4.startup.log\n",
      "11/09/2019  08:48 PM    <DIR>          .PyCharmEdu2019.2\n",
      "01/17/2020  10:24 AM    <DIR>          .PyCharmEdu2019.3\n",
      "04/20/2020  10:38 AM               260 .serena.vm.applet.config\n",
      "07/31/2016  01:43 PM    <DIR>          .vec\n",
      "02/06/2020  05:00 PM             2,867 .viminfo\n",
      "01/01/2020  06:52 AM    <DIR>          .VirtualBox\n",
      "03/15/2020  07:53 AM    <DIR>          Contacts\n",
      "12/12/2020  10:07 PM           139,131 CT5-Titanic Passenger Dataset.ipynb\n",
      "12/11/2020  04:12 PM            29,287 CT5-Titanic passengers-Python Data Analysis.ipynb\n",
      "01/26/2021  04:14 PM    <DIR>          Desktop\n",
      "06/15/2020  06:10 PM    <DIR>          Documents\n",
      "02/19/2021  10:54 AM    <DIR>          Downloads\n",
      "07/12/2020  06:24 AM    <DIR>          Favorites\n",
      "08/19/2016  06:31 AM             1,676 HP_OV_consoleSettings_10.4.72.85_czlxp\n",
      "08/17/2016  05:59 AM             1,676 HP_OV_consoleSettings_92.242.140.21_czlxp\n",
      "09/02/2016  08:49 AM             1,676 HP_OV_consoleSettings_bpahpov1.barnesandnoble.com_czlxp\n",
      "02/09/2021  12:34 PM    <DIR>          Links\n",
      "11/15/2020  11:02 AM             2,100 MIS542.ipynb\n",
      "12/20/2020  09:01 AM           524,869 MIS542-Python_Data_Analysis.ipynb\n",
      "12/20/2020  09:01 AM           524,869 MIS542-Python_Data_Analysis-Copy1.ipynb\n",
      "12/20/2020  02:08 PM           326,636 MIS542-Python_Visualization_Housingdataset.ipynb\n",
      "11/29/2020  02:34 PM             5,369 MISWS-542-Module3-creating 100 x 100 times table matrix_jupyter.ipynb\n",
      "10/14/2018  10:22 AM    <DIR>          Music\n",
      "02/09/2021  12:34 PM    <DIR>          OneDrive\n",
      "12/27/2019  10:39 AM        38,738,720 pemhttpd.exe\n",
      "01/25/2021  05:28 PM    <DIR>          Pictures\n",
      "03/14/2017  09:17 AM               600 PUTTY.RND\n",
      "02/20/2021  09:24 AM             1,009 QA_testing.ipynb\n",
      "03/05/2014  03:29 PM    <DIR>          Roaming\n",
      "05/12/2020  05:20 PM               104 Run... - Shortcut.lnk\n",
      "03/15/2020  07:53 AM    <DIR>          Saved Games\n",
      "11/29/2020  02:33 PM               704 savf1.npy\n",
      "11/29/2020  02:23 PM               432 savfl.txt\n",
      "03/15/2020  07:53 AM    <DIR>          Searches\n",
      "11/13/2020  01:50 PM               555 Untitled.ipynb\n",
      "11/13/2020  02:51 PM                72 Untitled1.ipynb\n",
      "11/29/2020  09:39 AM            14,793 Untitled2.ipynb\n",
      "12/04/2020  11:22 AM            21,042 Untitled3.ipynb\n",
      "12/20/2020  10:50 AM            28,700 Untitled4.ipynb\n",
      "10/14/2018  10:22 AM    <DIR>          Videos\n",
      "11/09/2019  10:12 PM    <DIR>          VirtualBox VMs\n",
      "              29 File(s)     40,407,436 bytes\n",
      "              29 Dir(s)  325,472,329,728 bytes free\n"
     ]
    }
   ],
   "source": [
    "ls"
   ]
  },
  {
   "cell_type": "code",
   "execution_count": null,
   "metadata": {},
   "outputs": [],
   "source": []
  }
 ],
 "metadata": {
  "kernelspec": {
   "display_name": "Python 3",
   "language": "python",
   "name": "python3"
  },
  "language_info": {
   "codemirror_mode": {
    "name": "ipython",
    "version": 3
   },
   "file_extension": ".py",
   "mimetype": "text/x-python",
   "name": "python",
   "nbconvert_exporter": "python",
   "pygments_lexer": "ipython3",
   "version": "3.8.3"
  }
 },
 "nbformat": 4,
 "nbformat_minor": 4
}
